{
  "nbformat": 4,
  "nbformat_minor": 0,
  "metadata": {
    "colab": {
      "provenance": [],
      "mount_file_id": "11ae9PTUVtHp4IG7KsVmS3-F-Vy_mjmgS",
      "authorship_tag": "ABX9TyNu4kLrOjzhYXAxhQSt2C0t",
      "include_colab_link": true
    },
    "kernelspec": {
      "name": "python3",
      "display_name": "Python 3"
    },
    "language_info": {
      "name": "python"
    }
  },
  "cells": [
    {
      "cell_type": "markdown",
      "metadata": {
        "id": "view-in-github",
        "colab_type": "text"
      },
      "source": [
        "<a href=\"https://colab.research.google.com/github/Bharadwaja196/AIHACKATHON/blob/main/MLLABEXP2.ipynb\" target=\"_parent\"><img src=\"https://colab.research.google.com/assets/colab-badge.svg\" alt=\"Open In Colab\"/></a>"
      ]
    },
    {
      "cell_type": "markdown",
      "metadata": {
        "id": "3a9e5cd4"
      },
      "source": [
        "# MLOps with DVC and Git\n",
        "\n",
        "This notebook demonstrates how to use DVC (Data Version Control) and Git to manage a simple machine learning project. We will create a pipeline to train a model on two different versions of a dataset, compare their performance, and select the best model.\n",
        "\n",
        "**DVC** helps in:\n",
        "- Versioning large datasets and models.\n",
        "- Creating reproducible pipelines.\n",
        "- Managing dependencies between data, code, and models.\n",
        "\n",
        "**Git** is used for versioning the code, DVC files (`.dvc` files, `dvc.yaml`, `.gitignore`, `.dvcignore`), and other project files."
      ]
    },
    {
      "cell_type": "code",
      "metadata": {
        "colab": {
          "base_uri": "https://localhost:8080/"
        },
        "id": "dc30e676",
        "outputId": "038874cd-7b8f-409f-c54d-3af512ef1e21"
      },
      "source": [
        "# Install necessary libraries\n",
        "%pip install dvc[gdrive] scikit-learn pandas matplotlib joblib PyYAML"
      ],
      "execution_count": null,
      "outputs": [
        {
          "output_type": "stream",
          "name": "stdout",
          "text": [
            "Requirement already satisfied: scikit-learn in /usr/local/lib/python3.11/dist-packages (1.6.1)\n",
            "Requirement already satisfied: pandas in /usr/local/lib/python3.11/dist-packages (2.2.2)\n",
            "Requirement already satisfied: matplotlib in /usr/local/lib/python3.11/dist-packages (3.10.0)\n",
            "Requirement already satisfied: joblib in /usr/local/lib/python3.11/dist-packages (1.5.1)\n",
            "Requirement already satisfied: PyYAML in /usr/local/lib/python3.11/dist-packages (6.0.2)\n",
            "Requirement already satisfied: dvc[gdrive] in /usr/local/lib/python3.11/dist-packages (3.62.0)\n",
            "Requirement already satisfied: attrs>=22.2.0 in /usr/local/lib/python3.11/dist-packages (from dvc[gdrive]) (25.3.0)\n",
            "Requirement already satisfied: celery in /usr/local/lib/python3.11/dist-packages (from dvc[gdrive]) (5.5.3)\n",
            "Requirement already satisfied: colorama>=0.3.9 in /usr/local/lib/python3.11/dist-packages (from dvc[gdrive]) (0.4.6)\n",
            "Requirement already satisfied: configobj>=5.0.9 in /usr/local/lib/python3.11/dist-packages (from dvc[gdrive]) (5.0.9)\n",
            "Requirement already satisfied: distro>=1.3 in /usr/local/lib/python3.11/dist-packages (from dvc[gdrive]) (1.9.0)\n",
            "Requirement already satisfied: dpath<3,>=2.1.0 in /usr/local/lib/python3.11/dist-packages (from dvc[gdrive]) (2.2.0)\n",
            "Requirement already satisfied: dulwich in /usr/local/lib/python3.11/dist-packages (from dvc[gdrive]) (0.24.1)\n",
            "Requirement already satisfied: dvc-data<3.17,>=3.16.2 in /usr/local/lib/python3.11/dist-packages (from dvc[gdrive]) (3.16.11)\n",
            "Requirement already satisfied: dvc-http>=2.29.0 in /usr/local/lib/python3.11/dist-packages (from dvc[gdrive]) (2.32.0)\n",
            "Requirement already satisfied: dvc-objects in /usr/local/lib/python3.11/dist-packages (from dvc[gdrive]) (5.1.1)\n",
            "Requirement already satisfied: dvc-render<2,>=1.0.1 in /usr/local/lib/python3.11/dist-packages (from dvc[gdrive]) (1.0.2)\n",
            "Requirement already satisfied: dvc-studio-client<1,>=0.21 in /usr/local/lib/python3.11/dist-packages (from dvc[gdrive]) (0.22.0)\n",
            "Requirement already satisfied: dvc-task<1,>=0.3.0 in /usr/local/lib/python3.11/dist-packages (from dvc[gdrive]) (0.40.2)\n",
            "Requirement already satisfied: flatten_dict<1,>=0.4.1 in /usr/local/lib/python3.11/dist-packages (from dvc[gdrive]) (0.4.2)\n",
            "Requirement already satisfied: flufl.lock<9,>=8.1.0 in /usr/local/lib/python3.11/dist-packages (from dvc[gdrive]) (8.2.0)\n",
            "Requirement already satisfied: fsspec>=2024.2.0 in /usr/local/lib/python3.11/dist-packages (from dvc[gdrive]) (2025.3.0)\n",
            "Requirement already satisfied: funcy>=1.14 in /usr/local/lib/python3.11/dist-packages (from dvc[gdrive]) (2.0)\n",
            "Requirement already satisfied: grandalf<1,>=0.7 in /usr/local/lib/python3.11/dist-packages (from dvc[gdrive]) (0.8)\n",
            "Requirement already satisfied: gto<2,>=1.6.0 in /usr/local/lib/python3.11/dist-packages (from dvc[gdrive]) (1.7.2)\n",
            "Requirement already satisfied: hydra-core>=1.1 in /usr/local/lib/python3.11/dist-packages (from dvc[gdrive]) (1.3.2)\n",
            "Requirement already satisfied: iterative-telemetry>=0.0.7 in /usr/local/lib/python3.11/dist-packages (from dvc[gdrive]) (0.0.10)\n",
            "Requirement already satisfied: kombu in /usr/local/lib/python3.11/dist-packages (from dvc[gdrive]) (5.5.4)\n",
            "Requirement already satisfied: networkx>=2.5 in /usr/local/lib/python3.11/dist-packages (from dvc[gdrive]) (3.5)\n",
            "Requirement already satisfied: omegaconf in /usr/local/lib/python3.11/dist-packages (from dvc[gdrive]) (2.3.0)\n",
            "Requirement already satisfied: packaging>=19 in /usr/local/lib/python3.11/dist-packages (from dvc[gdrive]) (25.0)\n",
            "Requirement already satisfied: pathspec>=0.10.3 in /usr/local/lib/python3.11/dist-packages (from dvc[gdrive]) (0.12.1)\n",
            "Requirement already satisfied: platformdirs<5,>=3.1.1 in /usr/local/lib/python3.11/dist-packages (from dvc[gdrive]) (4.3.8)\n",
            "Requirement already satisfied: psutil>=5.8 in /usr/local/lib/python3.11/dist-packages (from dvc[gdrive]) (5.9.5)\n",
            "Requirement already satisfied: pydot>=1.2.4 in /usr/local/lib/python3.11/dist-packages (from dvc[gdrive]) (3.0.4)\n",
            "Requirement already satisfied: pygtrie>=2.3.2 in /usr/local/lib/python3.11/dist-packages (from dvc[gdrive]) (2.5.0)\n",
            "Requirement already satisfied: pyparsing>=2.4.7 in /usr/local/lib/python3.11/dist-packages (from dvc[gdrive]) (3.2.3)\n",
            "Requirement already satisfied: requests>=2.22 in /usr/local/lib/python3.11/dist-packages (from dvc[gdrive]) (2.32.3)\n",
            "Requirement already satisfied: rich>=12 in /usr/local/lib/python3.11/dist-packages (from dvc[gdrive]) (13.9.4)\n",
            "Requirement already satisfied: ruamel.yaml>=0.17.11 in /usr/local/lib/python3.11/dist-packages (from dvc[gdrive]) (0.18.14)\n",
            "Requirement already satisfied: scmrepo<4,>=3.5.2 in /usr/local/lib/python3.11/dist-packages (from dvc[gdrive]) (3.5.2)\n",
            "Requirement already satisfied: shortuuid>=0.5 in /usr/local/lib/python3.11/dist-packages (from dvc[gdrive]) (1.0.13)\n",
            "Requirement already satisfied: shtab<2,>=1.3.4 in /usr/local/lib/python3.11/dist-packages (from dvc[gdrive]) (1.7.2)\n",
            "Requirement already satisfied: tabulate>=0.8.7 in /usr/local/lib/python3.11/dist-packages (from dvc[gdrive]) (0.9.0)\n",
            "Requirement already satisfied: tomlkit>=0.11.1 in /usr/local/lib/python3.11/dist-packages (from dvc[gdrive]) (0.13.3)\n",
            "Requirement already satisfied: tqdm<5,>=4.63.1 in /usr/local/lib/python3.11/dist-packages (from dvc[gdrive]) (4.67.1)\n",
            "Requirement already satisfied: voluptuous>=0.11.7 in /usr/local/lib/python3.11/dist-packages (from dvc[gdrive]) (0.15.2)\n",
            "Requirement already satisfied: zc.lockfile>=1.2.1 in /usr/local/lib/python3.11/dist-packages (from dvc[gdrive]) (3.0.post1)\n",
            "Requirement already satisfied: dvc-gdrive<4,>=3 in /usr/local/lib/python3.11/dist-packages (from dvc[gdrive]) (3.0.1)\n",
            "Requirement already satisfied: numpy>=1.19.5 in /usr/local/lib/python3.11/dist-packages (from scikit-learn) (2.0.2)\n",
            "Requirement already satisfied: scipy>=1.6.0 in /usr/local/lib/python3.11/dist-packages (from scikit-learn) (1.16.1)\n",
            "Requirement already satisfied: threadpoolctl>=3.1.0 in /usr/local/lib/python3.11/dist-packages (from scikit-learn) (3.6.0)\n",
            "Requirement already satisfied: python-dateutil>=2.8.2 in /usr/local/lib/python3.11/dist-packages (from pandas) (2.9.0.post0)\n",
            "Requirement already satisfied: pytz>=2020.1 in /usr/local/lib/python3.11/dist-packages (from pandas) (2025.2)\n",
            "Requirement already satisfied: tzdata>=2022.7 in /usr/local/lib/python3.11/dist-packages (from pandas) (2025.2)\n",
            "Requirement already satisfied: contourpy>=1.0.1 in /usr/local/lib/python3.11/dist-packages (from matplotlib) (1.3.3)\n",
            "Requirement already satisfied: cycler>=0.10 in /usr/local/lib/python3.11/dist-packages (from matplotlib) (0.12.1)\n",
            "Requirement already satisfied: fonttools>=4.22.0 in /usr/local/lib/python3.11/dist-packages (from matplotlib) (4.59.0)\n",
            "Requirement already satisfied: kiwisolver>=1.3.1 in /usr/local/lib/python3.11/dist-packages (from matplotlib) (1.4.8)\n",
            "Requirement already satisfied: pillow>=8 in /usr/local/lib/python3.11/dist-packages (from matplotlib) (11.3.0)\n",
            "Requirement already satisfied: dictdiffer>=0.8.1 in /usr/local/lib/python3.11/dist-packages (from dvc-data<3.17,>=3.16.2->dvc[gdrive]) (0.9.0)\n",
            "Requirement already satisfied: diskcache>=5.2.1 in /usr/local/lib/python3.11/dist-packages (from dvc-data<3.17,>=3.16.2->dvc[gdrive]) (5.6.3)\n",
            "Requirement already satisfied: sqltrie<1,>=0.11.0 in /usr/local/lib/python3.11/dist-packages (from dvc-data<3.17,>=3.16.2->dvc[gdrive]) (0.11.2)\n",
            "Requirement already satisfied: orjson<4,>=3 in /usr/local/lib/python3.11/dist-packages (from dvc-data<3.17,>=3.16.2->dvc[gdrive]) (3.11.1)\n",
            "Requirement already satisfied: pydrive2>=1.19.0 in /usr/local/lib/python3.11/dist-packages (from pydrive2[fsspec]>=1.19.0->dvc-gdrive<4,>=3->dvc[gdrive]) (1.21.3)\n",
            "Requirement already satisfied: aiohttp-retry>=2.5.0 in /usr/local/lib/python3.11/dist-packages (from dvc-http>=2.29.0->dvc[gdrive]) (2.9.1)\n",
            "Requirement already satisfied: billiard<5.0,>=4.2.1 in /usr/local/lib/python3.11/dist-packages (from celery->dvc[gdrive]) (4.2.1)\n",
            "Requirement already satisfied: vine<6.0,>=5.1.0 in /usr/local/lib/python3.11/dist-packages (from celery->dvc[gdrive]) (5.1.0)\n",
            "Requirement already satisfied: click<9.0,>=8.1.2 in /usr/local/lib/python3.11/dist-packages (from celery->dvc[gdrive]) (8.2.1)\n",
            "Requirement already satisfied: click-didyoumean>=0.3.0 in /usr/local/lib/python3.11/dist-packages (from celery->dvc[gdrive]) (0.3.1)\n",
            "Requirement already satisfied: click-repl>=0.2.0 in /usr/local/lib/python3.11/dist-packages (from celery->dvc[gdrive]) (0.3.0)\n",
            "Requirement already satisfied: click-plugins>=1.1.1 in /usr/local/lib/python3.11/dist-packages (from celery->dvc[gdrive]) (1.1.1.2)\n",
            "Requirement already satisfied: six<2.0,>=1.12 in /usr/local/lib/python3.11/dist-packages (from flatten_dict<1,>=0.4.1->dvc[gdrive]) (1.17.0)\n",
            "Requirement already satisfied: atpublic in /usr/local/lib/python3.11/dist-packages (from flufl.lock<9,>=8.1.0->dvc[gdrive]) (5.1)\n",
            "Requirement already satisfied: entrypoints in /usr/local/lib/python3.11/dist-packages (from gto<2,>=1.6.0->dvc[gdrive]) (0.4)\n",
            "Requirement already satisfied: pydantic!=2.0.0,<3,>=1.9.0 in /usr/local/lib/python3.11/dist-packages (from gto<2,>=1.6.0->dvc[gdrive]) (2.11.7)\n",
            "Requirement already satisfied: semver>=2.13.0 in /usr/local/lib/python3.11/dist-packages (from gto<2,>=1.6.0->dvc[gdrive]) (3.0.4)\n",
            "Requirement already satisfied: typer>=0.4.1 in /usr/local/lib/python3.11/dist-packages (from gto<2,>=1.6.0->dvc[gdrive]) (0.16.0)\n",
            "Requirement already satisfied: antlr4-python3-runtime==4.9.* in /usr/local/lib/python3.11/dist-packages (from hydra-core>=1.1->dvc[gdrive]) (4.9.3)\n",
            "Requirement already satisfied: appdirs in /usr/local/lib/python3.11/dist-packages (from iterative-telemetry>=0.0.7->dvc[gdrive]) (1.4.4)\n",
            "Requirement already satisfied: filelock in /usr/local/lib/python3.11/dist-packages (from iterative-telemetry>=0.0.7->dvc[gdrive]) (3.18.0)\n",
            "Requirement already satisfied: amqp<6.0.0,>=5.1.1 in /usr/local/lib/python3.11/dist-packages (from kombu->dvc[gdrive]) (5.3.1)\n",
            "Requirement already satisfied: charset-normalizer<4,>=2 in /usr/local/lib/python3.11/dist-packages (from requests>=2.22->dvc[gdrive]) (3.4.2)\n",
            "Requirement already satisfied: idna<4,>=2.5 in /usr/local/lib/python3.11/dist-packages (from requests>=2.22->dvc[gdrive]) (3.10)\n",
            "Requirement already satisfied: urllib3<3,>=1.21.1 in /usr/local/lib/python3.11/dist-packages (from requests>=2.22->dvc[gdrive]) (2.5.0)\n",
            "Requirement already satisfied: certifi>=2017.4.17 in /usr/local/lib/python3.11/dist-packages (from requests>=2.22->dvc[gdrive]) (2025.8.3)\n",
            "Requirement already satisfied: markdown-it-py>=2.2.0 in /usr/local/lib/python3.11/dist-packages (from rich>=12->dvc[gdrive]) (3.0.0)\n",
            "Requirement already satisfied: pygments<3.0.0,>=2.13.0 in /usr/local/lib/python3.11/dist-packages (from rich>=12->dvc[gdrive]) (2.19.2)\n",
            "Requirement already satisfied: ruamel.yaml.clib>=0.2.7 in /usr/local/lib/python3.11/dist-packages (from ruamel.yaml>=0.17.11->dvc[gdrive]) (0.2.12)\n",
            "Requirement already satisfied: gitpython>3 in /usr/local/lib/python3.11/dist-packages (from scmrepo<4,>=3.5.2->dvc[gdrive]) (3.1.45)\n",
            "Requirement already satisfied: pygit2>=1.14.0 in /usr/local/lib/python3.11/dist-packages (from scmrepo<4,>=3.5.2->dvc[gdrive]) (1.18.1)\n",
            "Requirement already satisfied: asyncssh<3,>=2.13.1 in /usr/local/lib/python3.11/dist-packages (from scmrepo<4,>=3.5.2->dvc[gdrive]) (2.21.0)\n",
            "Requirement already satisfied: setuptools in /usr/local/lib/python3.11/dist-packages (from zc.lockfile>=1.2.1->dvc[gdrive]) (75.2.0)\n",
            "Requirement already satisfied: aiohttp in /usr/local/lib/python3.11/dist-packages (from aiohttp-retry>=2.5.0->dvc-http>=2.29.0->dvc[gdrive]) (3.12.15)\n",
            "Requirement already satisfied: cryptography>=39.0 in /usr/local/lib/python3.11/dist-packages (from asyncssh<3,>=2.13.1->scmrepo<4,>=3.5.2->dvc[gdrive]) (43.0.3)\n",
            "Requirement already satisfied: typing_extensions>=4.0.0 in /usr/local/lib/python3.11/dist-packages (from asyncssh<3,>=2.13.1->scmrepo<4,>=3.5.2->dvc[gdrive]) (4.14.1)\n",
            "Requirement already satisfied: prompt-toolkit>=3.0.36 in /usr/local/lib/python3.11/dist-packages (from click-repl>=0.2.0->celery->dvc[gdrive]) (3.0.51)\n",
            "Requirement already satisfied: gitdb<5,>=4.0.1 in /usr/local/lib/python3.11/dist-packages (from gitpython>3->scmrepo<4,>=3.5.2->dvc[gdrive]) (4.0.12)\n",
            "Requirement already satisfied: mdurl~=0.1 in /usr/local/lib/python3.11/dist-packages (from markdown-it-py>=2.2.0->rich>=12->dvc[gdrive]) (0.1.2)\n",
            "Requirement already satisfied: annotated-types>=0.6.0 in /usr/local/lib/python3.11/dist-packages (from pydantic!=2.0.0,<3,>=1.9.0->gto<2,>=1.6.0->dvc[gdrive]) (0.7.0)\n",
            "Requirement already satisfied: pydantic-core==2.33.2 in /usr/local/lib/python3.11/dist-packages (from pydantic!=2.0.0,<3,>=1.9.0->gto<2,>=1.6.0->dvc[gdrive]) (2.33.2)\n",
            "Requirement already satisfied: typing-inspection>=0.4.0 in /usr/local/lib/python3.11/dist-packages (from pydantic!=2.0.0,<3,>=1.9.0->gto<2,>=1.6.0->dvc[gdrive]) (0.4.1)\n",
            "Requirement already satisfied: google-api-python-client>=1.12.5 in /usr/local/lib/python3.11/dist-packages (from pydrive2>=1.19.0->pydrive2[fsspec]>=1.19.0->dvc-gdrive<4,>=3->dvc[gdrive]) (2.177.0)\n",
            "Requirement already satisfied: oauth2client>=4.0.0 in /usr/local/lib/python3.11/dist-packages (from pydrive2>=1.19.0->pydrive2[fsspec]>=1.19.0->dvc-gdrive<4,>=3->dvc[gdrive]) (4.1.3)\n",
            "Requirement already satisfied: pyOpenSSL<=24.2.1,>=19.1.0 in /usr/local/lib/python3.11/dist-packages (from pydrive2>=1.19.0->pydrive2[fsspec]>=1.19.0->dvc-gdrive<4,>=3->dvc[gdrive]) (24.2.1)\n",
            "Requirement already satisfied: cffi>=1.17.0 in /usr/local/lib/python3.11/dist-packages (from pygit2>=1.14.0->scmrepo<4,>=3.5.2->dvc[gdrive]) (1.17.1)\n",
            "Requirement already satisfied: shellingham>=1.3.0 in /usr/local/lib/python3.11/dist-packages (from typer>=0.4.1->gto<2,>=1.6.0->dvc[gdrive]) (1.5.4)\n",
            "Requirement already satisfied: aiohappyeyeballs>=2.5.0 in /usr/local/lib/python3.11/dist-packages (from aiohttp->aiohttp-retry>=2.5.0->dvc-http>=2.29.0->dvc[gdrive]) (2.6.1)\n",
            "Requirement already satisfied: aiosignal>=1.4.0 in /usr/local/lib/python3.11/dist-packages (from aiohttp->aiohttp-retry>=2.5.0->dvc-http>=2.29.0->dvc[gdrive]) (1.4.0)\n",
            "Requirement already satisfied: frozenlist>=1.1.1 in /usr/local/lib/python3.11/dist-packages (from aiohttp->aiohttp-retry>=2.5.0->dvc-http>=2.29.0->dvc[gdrive]) (1.7.0)\n",
            "Requirement already satisfied: multidict<7.0,>=4.5 in /usr/local/lib/python3.11/dist-packages (from aiohttp->aiohttp-retry>=2.5.0->dvc-http>=2.29.0->dvc[gdrive]) (6.6.3)\n",
            "Requirement already satisfied: propcache>=0.2.0 in /usr/local/lib/python3.11/dist-packages (from aiohttp->aiohttp-retry>=2.5.0->dvc-http>=2.29.0->dvc[gdrive]) (0.3.2)\n",
            "Requirement already satisfied: yarl<2.0,>=1.17.0 in /usr/local/lib/python3.11/dist-packages (from aiohttp->aiohttp-retry>=2.5.0->dvc-http>=2.29.0->dvc[gdrive]) (1.20.1)\n",
            "Requirement already satisfied: pycparser in /usr/local/lib/python3.11/dist-packages (from cffi>=1.17.0->pygit2>=1.14.0->scmrepo<4,>=3.5.2->dvc[gdrive]) (2.22)\n",
            "Requirement already satisfied: smmap<6,>=3.0.1 in /usr/local/lib/python3.11/dist-packages (from gitdb<5,>=4.0.1->gitpython>3->scmrepo<4,>=3.5.2->dvc[gdrive]) (5.0.2)\n",
            "Requirement already satisfied: httplib2<1.0.0,>=0.19.0 in /usr/local/lib/python3.11/dist-packages (from google-api-python-client>=1.12.5->pydrive2>=1.19.0->pydrive2[fsspec]>=1.19.0->dvc-gdrive<4,>=3->dvc[gdrive]) (0.22.0)\n",
            "Requirement already satisfied: google-auth!=2.24.0,!=2.25.0,<3.0.0,>=1.32.0 in /usr/local/lib/python3.11/dist-packages (from google-api-python-client>=1.12.5->pydrive2>=1.19.0->pydrive2[fsspec]>=1.19.0->dvc-gdrive<4,>=3->dvc[gdrive]) (2.38.0)\n",
            "Requirement already satisfied: google-auth-httplib2<1.0.0,>=0.2.0 in /usr/local/lib/python3.11/dist-packages (from google-api-python-client>=1.12.5->pydrive2>=1.19.0->pydrive2[fsspec]>=1.19.0->dvc-gdrive<4,>=3->dvc[gdrive]) (0.2.0)\n",
            "Requirement already satisfied: google-api-core!=2.0.*,!=2.1.*,!=2.2.*,!=2.3.0,<3.0.0,>=1.31.5 in /usr/local/lib/python3.11/dist-packages (from google-api-python-client>=1.12.5->pydrive2>=1.19.0->pydrive2[fsspec]>=1.19.0->dvc-gdrive<4,>=3->dvc[gdrive]) (2.25.1)\n",
            "Requirement already satisfied: uritemplate<5,>=3.0.1 in /usr/local/lib/python3.11/dist-packages (from google-api-python-client>=1.12.5->pydrive2>=1.19.0->pydrive2[fsspec]>=1.19.0->dvc-gdrive<4,>=3->dvc[gdrive]) (4.2.0)\n",
            "Requirement already satisfied: pyasn1>=0.1.7 in /usr/local/lib/python3.11/dist-packages (from oauth2client>=4.0.0->pydrive2>=1.19.0->pydrive2[fsspec]>=1.19.0->dvc-gdrive<4,>=3->dvc[gdrive]) (0.6.1)\n",
            "Requirement already satisfied: pyasn1-modules>=0.0.5 in /usr/local/lib/python3.11/dist-packages (from oauth2client>=4.0.0->pydrive2>=1.19.0->pydrive2[fsspec]>=1.19.0->dvc-gdrive<4,>=3->dvc[gdrive]) (0.4.2)\n",
            "Requirement already satisfied: rsa>=3.1.4 in /usr/local/lib/python3.11/dist-packages (from oauth2client>=4.0.0->pydrive2>=1.19.0->pydrive2[fsspec]>=1.19.0->dvc-gdrive<4,>=3->dvc[gdrive]) (4.9.1)\n",
            "Requirement already satisfied: wcwidth in /usr/local/lib/python3.11/dist-packages (from prompt-toolkit>=3.0.36->click-repl>=0.2.0->celery->dvc[gdrive]) (0.2.13)\n",
            "Requirement already satisfied: googleapis-common-protos<2.0.0,>=1.56.2 in /usr/local/lib/python3.11/dist-packages (from google-api-core!=2.0.*,!=2.1.*,!=2.2.*,!=2.3.0,<3.0.0,>=1.31.5->google-api-python-client>=1.12.5->pydrive2>=1.19.0->pydrive2[fsspec]>=1.19.0->dvc-gdrive<4,>=3->dvc[gdrive]) (1.70.0)\n",
            "Requirement already satisfied: protobuf!=3.20.0,!=3.20.1,!=4.21.0,!=4.21.1,!=4.21.2,!=4.21.3,!=4.21.4,!=4.21.5,<7.0.0,>=3.19.5 in /usr/local/lib/python3.11/dist-packages (from google-api-core!=2.0.*,!=2.1.*,!=2.2.*,!=2.3.0,<3.0.0,>=1.31.5->google-api-python-client>=1.12.5->pydrive2>=1.19.0->pydrive2[fsspec]>=1.19.0->dvc-gdrive<4,>=3->dvc[gdrive]) (5.29.5)\n",
            "Requirement already satisfied: proto-plus<2.0.0,>=1.22.3 in /usr/local/lib/python3.11/dist-packages (from google-api-core!=2.0.*,!=2.1.*,!=2.2.*,!=2.3.0,<3.0.0,>=1.31.5->google-api-python-client>=1.12.5->pydrive2>=1.19.0->pydrive2[fsspec]>=1.19.0->dvc-gdrive<4,>=3->dvc[gdrive]) (1.26.1)\n",
            "Requirement already satisfied: cachetools<6.0,>=2.0.0 in /usr/local/lib/python3.11/dist-packages (from google-auth!=2.24.0,!=2.25.0,<3.0.0,>=1.32.0->google-api-python-client>=1.12.5->pydrive2>=1.19.0->pydrive2[fsspec]>=1.19.0->dvc-gdrive<4,>=3->dvc[gdrive]) (5.5.2)\n"
          ]
        }
      ]
    },
    {
      "cell_type": "markdown",
      "metadata": {
        "id": "a8bf3a6f"
      },
      "source": [
        "## 1. Setup Directories and Initialize Git and DVC\n",
        "\n",
        "We will create the necessary directory structure for our project and initialize both Git and DVC."
      ]
    },
    {
      "cell_type": "code",
      "source": [
        "!cd /content\n",
        "!rm -rf ml-project/ml-project   # delete the extra nested copies inside\n",
        "!cd ml-project                  # go into your main project\n",
        "!pwd                            # show current directory\n",
        "!ls                             # list files/folders here\n"
      ],
      "metadata": {
        "colab": {
          "base_uri": "https://localhost:8080/"
        },
        "id": "wpO_x1nZXndB",
        "outputId": "7b72d79a-7819-4e0a-e9e3-e2c6a23f6a38"
      },
      "execution_count": null,
      "outputs": [
        {
          "output_type": "stream",
          "name": "stdout",
          "text": [
            "/content/ml-project/ml-project\n",
            "data  dvc.lock\tdvc.yaml  ml-project  models  results  scripts\n"
          ]
        }
      ]
    },
    {
      "cell_type": "code",
      "metadata": {
        "colab": {
          "base_uri": "https://localhost:8080/"
        },
        "id": "d377db7c",
        "outputId": "3c29451f-ea82-4cad-97c8-4bb37a11990d"
      },
      "source": [
        "# Setup directories and initialize Git and DVC\n",
        "!mkdir -p ml-project/{data,models,scripts,results}\n",
        "%cd ml-project\n",
        "!git init\n",
        "!dvc init --no-scm # Use --no-scm as we are already in a Git repository"
      ],
      "execution_count": null,
      "outputs": [
        {
          "output_type": "stream",
          "name": "stdout",
          "text": [
            "/content/ml-project/ml-project/ml-project\n",
            "Reinitialized existing Git repository in /content/ml-project/ml-project/ml-project/.git/\n",
            "\u001b[31mERROR\u001b[39m: failed to initiate DVC - '.dvc' exists. Use `-f` to force.\n",
            "\u001b[0m"
          ]
        }
      ]
    },
    {
      "cell_type": "markdown",
      "metadata": {
        "id": "5deffe94"
      },
      "source": [
        "## 2. Configure Git and DVC Ignores\n",
        "\n",
        "We will configure `.gitignore` to ignore DVC's internal files and our large data/model files, and `.dvcignore` to tell DVC which files to not track."
      ]
    },
    {
      "cell_type": "code",
      "metadata": {
        "id": "b6034134"
      },
      "source": [
        "# Configure Git and DVC ignores\n",
        "# .gitignore: Ignore DVC cache, large files (data, models), and Python artifacts\n",
        "!echo \".dvc/cache\" > .gitignore\n",
        "!echo \"models/*.pkl\" >> .gitignore # Ignore model files\n",
        "!echo \"results/*.txt\" >> .gitignore # Ignore results files\n",
        "!echo \"__pycache__/\" >> .gitignore\n",
        "!echo \"*.csv\" >> .gitignore # Ignore data files from Git\n",
        "!echo \"drive/\" >> .gitignore # Ignore Google Drive mount\n",
        "!echo \"*.gdoc\" >> .gitignore\n",
        "!echo \"*.gsheet\" >> .gitignore\n",
        "\n",
        "# .dvcignore: Tell DVC to ignore files that are not part of the pipeline\n",
        "# We explicitly remove *.csv from .dvcignore in a later step to track data files\n",
        "!echo \"__pycache__/\" > .dvcignore\n",
        "!echo \"*.pkl\" >> .dvcignore\n",
        "!echo \"*.txt\" >> .dvcignore"
      ],
      "execution_count": null,
      "outputs": []
    },
    {
      "cell_type": "markdown",
      "metadata": {
        "id": "a49d4ac7"
      },
      "source": [
        "## 3. Fix `.dvcignore` to allow tracking `.csv` files\n",
        "\n",
        "Previously, we added `*.csv` to `.dvcignore`, which prevented DVC from tracking our data files. We need to remove this line from `.dvcignore`."
      ]
    },
    {
      "cell_type": "code",
      "metadata": {
        "colab": {
          "base_uri": "https://localhost:8080/"
        },
        "id": "2775964f",
        "outputId": "6f044908-a481-42e1-b967-08b4f71f428f"
      },
      "source": [
        "\n",
        "# Fix .dvcignore to allow tracking .csv files\n",
        "# Read the current .dvcignore content\n",
        "with open(\".dvcignore\", \"r\") as f:\n",
        "    dvcignore_lines = f.readlines()\n",
        "\n",
        "# Remove the line containing \"*.csv\"\n",
        "dvcignore_lines_fixed = [line for line in dvcignore_lines if \"*.csv\" not in line]\n",
        "\n",
        "# Write the modified content back to .dvcignore\n",
        "with open(\".dvcignore\", \"w\") as f:\n",
        "    f.writelines(dvcignore_lines_fixed)\n",
        "\n",
        "print(\"✅ Removed '*.csv' from .dvcignore\")\n",
        "\n",
        "# Add the modified .dvcignore to Git\n",
        "!git add .dvcignore\n",
        "!git commit -m \"Fix: Allow tracking .csv files in .dvcignore\""
      ],
      "execution_count": null,
      "outputs": [
        {
          "output_type": "stream",
          "name": "stdout",
          "text": [
            "✅ Removed '*.csv' from .dvcignore\n",
            "On branch master\n",
            "Changes not staged for commit:\n",
            "  (use \"git add <file>...\" to update what will be committed)\n",
            "  (use \"git restore <file>...\" to discard changes in working directory)\n",
            "\t\u001b[31mmodified:   .gitignore\u001b[m\n",
            "\t\u001b[31mmodified:   dvc.lock\u001b[m\n",
            "\n",
            "Untracked files:\n",
            "  (use \"git add <file>...\" to include in what will be committed)\n",
            "\t\u001b[31m.dvc/\u001b[m\n",
            "\n",
            "no changes added to commit (use \"git add\" and/or \"git commit -a\")\n"
          ]
        }
      ]
    },
    {
      "cell_type": "markdown",
      "metadata": {
        "id": "c4bc4b2d"
      },
      "source": [
        "## 4. Create Dummy Data Files\n",
        "\n",
        "We will create two versions of a dummy dataset (`iris_v1.csv` and `iris_v2.csv`) based on the Iris dataset. `iris_v2.csv` will have some added noise to simulate a data change."
      ]
    },
    {
      "cell_type": "code",
      "metadata": {
        "colab": {
          "base_uri": "https://localhost:8080/"
        },
        "id": "5d9b37e1",
        "outputId": "0359c8b3-5c3c-413b-b667-a797507ab262"
      },
      "source": [
        "# Create dummy data files\n",
        "from sklearn.datasets import load_iris\n",
        "import pandas as pd\n",
        "import numpy as np\n",
        "\n",
        "iris = load_iris()\n",
        "X = pd.DataFrame(iris.data, columns=iris.feature_names)\n",
        "y = pd.Series(iris.target, name=\"target\")\n",
        "\n",
        "df_v1 = pd.concat([X, y], axis=1)\n",
        "df_v1.to_csv(\"data/iris_v1.csv\", index=False)\n",
        "\n",
        "X_noisy = X.copy()\n",
        "X_noisy.iloc[:, 0] += np.random.normal(0, 0.5, size=X.shape[0])\n",
        "df_v2 = pd.concat([X_noisy, y], axis=1)\n",
        "df_v2.to_csv(\"data/iris_v2.csv\", index=False)\n",
        "\n",
        "print(\"✅ iris_v1.csv and iris_v2.csv created successfully.\")"
      ],
      "execution_count": null,
      "outputs": [
        {
          "output_type": "stream",
          "name": "stdout",
          "text": [
            "✅ iris_v1.csv and iris_v2.csv created successfully.\n"
          ]
        }
      ]
    },
    {
      "cell_type": "markdown",
      "metadata": {
        "id": "a949e308"
      },
      "source": [
        "## 5. Create Training Script\n",
        "\n",
        "This script (`scripts/train.py`) will load data, train a Logistic Regression model, evaluate it, and save the trained model and metrics."
      ]
    },
    {
      "cell_type": "code",
      "metadata": {
        "colab": {
          "base_uri": "https://localhost:8080/"
        },
        "id": "d95df0c2",
        "outputId": "03e846e4-523e-4e5e-ba5e-3d6ece9c5969"
      },
      "source": [
        "# Create training script\n",
        "%%writefile scripts/train.py\n",
        "import pandas as pd\n",
        "from sklearn.linear_model import LogisticRegression\n",
        "from sklearn.metrics import accuracy_score\n",
        "import joblib\n",
        "import sys\n",
        "import traceback\n",
        "\n",
        "try:\n",
        "    # Check if the correct number of arguments are provided\n",
        "    if len(sys.argv) != 4:\n",
        "        print(f\"Usage: python {sys.argv[0]} <data_path> <model_path> <metrics_path>\", file=sys.stderr)\n",
        "        sys.exit(1)\n",
        "\n",
        "    data_path, model_path, metrics_path = sys.argv[1], sys.argv[2], sys.argv[3]\n",
        "    print(f\"Loading data from: {data_path}\")\n",
        "    df = pd.read_csv(data_path)\n",
        "    X = df.drop(\"target\", axis=1)\n",
        "    y = df[\"target\"]\n",
        "    print(\"Data loaded successfully.\")\n",
        "\n",
        "    print(\"Training Logistic Regression model...\")\n",
        "    model = LogisticRegression()\n",
        "    model.fit(X, y)\n",
        "    print(\"Model trained successfully.\")\n",
        "\n",
        "    preds = model.predict(X)\n",
        "    acc = accuracy_score(y, preds)\n",
        "    print(f\"Calculated accuracy: {acc:.4f}\")\n",
        "\n",
        "    print(f\"Saving model to: {model_path}\")\n",
        "    joblib.dump(model, model_path)\n",
        "    print(\"Model saved successfully.\")\n",
        "\n",
        "    print(f\"Saving metrics to: {metrics_path}\")\n",
        "    with open(metrics_path, \"w\") as f:\n",
        "        f.write(f\"accuracy: {acc:.4f}\")\n",
        "    print(\"Metrics saved successfully.\")\n",
        "\n",
        "except Exception as e:\n",
        "    print(f\"An error occurred during training: {e}\", file=sys.stderr)\n",
        "    traceback.print_exc(file=sys.stderr)\n",
        "    sys.exit(1) # Exit with a non-zero code to indicate failure"
      ],
      "execution_count": null,
      "outputs": [
        {
          "output_type": "stream",
          "name": "stdout",
          "text": [
            "Overwriting scripts/train.py\n"
          ]
        }
      ]
    },
    {
      "cell_type": "markdown",
      "metadata": {
        "id": "48728dba"
      },
      "source": [
        "## 6. Create Comparison Script\n",
        "\n",
        "This script (`scripts/compare_metrics.py`) will read the metrics from training on both datasets, compare them, and copy the best performing model to `models/production_model.pkl`."
      ]
    },
    {
      "cell_type": "code",
      "source": [
        "!cd /content/ml-project && \\\n",
        "dvc init -f && \\        # <- no ! here because it's still part of the same shell session\n",
        "!git init && \\\n",
        "mkdir -p data models results scripts && \\\n",
        "dvc add data/iris_v1.csv && \\\n",
        "git add data/iris_v1.csv.dvc && \\\n",
        "git commit -m \"Add iris_v1\" && \\\n",
        "dvc add data/iris_v2.csv && \\\n",
        "git add data/iris_v2.csv.dvc && \\\n",
        "git commit -m \"Add iris_v2\" && \\\n",
        "dvc run -n train_v1 \\\n",
        "  -d scripts/train.py -d data/iris_v1.csv \\\n",
        "  -o models/model_v1.pkl -o results/metrics_v1.txt \\\n",
        "  python scripts/train.py data/iris_v1.csv models/model_v1.pkl results/metrics_v1.txt && \\\n",
        "dvc run -n train_v2 \\\n",
        "  -d scripts/train.py -d data/iris_v2.csv \\\n",
        "  -o models/model_v2.pkl -o results/metrics_v2.txt \\\n",
        "  python scripts/train.py data/iris_v2.csv models/model_v2.pkl results/metrics_v2.txt && \\\n",
        "dvc run -n compare_models \\\n",
        "  -d scripts/compare_metrics.py -d results/metrics_v1.txt -d results/metrics_v2.txt \\\n",
        "  python scripts/compare_metrics.py && \\\n",
        "git add dvc.yaml dvc.lock && \\\n",
        "git commit -m \"DVC pipeline for v1 and v2 datasets\"\n"
      ],
      "metadata": {
        "colab": {
          "base_uri": "https://localhost:8080/"
        },
        "id": "p1VLF2ckZKtE",
        "outputId": "a34d0269-cd04-4f16-af62-e6331e4741fe"
      },
      "execution_count": null,
      "outputs": [
        {
          "output_type": "stream",
          "name": "stdout",
          "text": [
            "Initialized DVC repository.\n",
            "\n",
            "You can now commit the changes to git.\n",
            "\n",
            "\u001b[31m+---------------------------------------------------------------------+\n",
            "\u001b[0m\u001b[31m|\u001b[0m                                                                     \u001b[31m|\u001b[0m\n",
            "\u001b[31m|\u001b[0m        DVC has enabled anonymous aggregate usage analytics.         \u001b[31m|\u001b[0m\n",
            "\u001b[31m|\u001b[0m     Read the analytics documentation (and how to opt-out) here:     \u001b[31m|\u001b[0m\n",
            "\u001b[31m|\u001b[0m             <\u001b[36mhttps://dvc.org/doc/user-guide/analytics\u001b[39m>              \u001b[31m|\u001b[0m\n",
            "\u001b[31m|\u001b[0m                                                                     \u001b[31m|\u001b[0m\n",
            "\u001b[31m+---------------------------------------------------------------------+\n",
            "\u001b[0m\n",
            "\u001b[33mWhat's next?\u001b[39m\n",
            "\u001b[33m------------\u001b[39m\n",
            "- Check out the documentation: <\u001b[36mhttps://dvc.org/doc\u001b[39m>\n",
            "- Get help and share ideas: <\u001b[36mhttps://dvc.org/chat\u001b[39m>\n",
            "- Star us on GitHub: <\u001b[36mhttps://github.com/iterative/dvc\u001b[39m>\n",
            "\u001b[0m/bin/bash: line 1:  : command not found\n",
            "Reinitialized existing Git repository in /content/ml-project/ml-project/ml-project/ml-project/ml-project/ml-project/.git/\n",
            "\u001b[?25l\u001b[32m⠋\u001b[0m Checking graph\n",
            "Adding...:   0% 0/1 [00:00<?, ?file/s{'info': ''}]\n",
            "!\u001b[A\n",
            "          |0.00 [00:00,     ?file/s]\u001b[A\n",
            "                                    \u001b[A\n",
            "!\u001b[A\n",
            "  0% |          |0/? [00:00<?,    ?files/s]\u001b[A\n",
            "                                           \u001b[A\n",
            "Adding data/iris_v1.csv to cache:   0% 0/1 [00:00<?, ?file/s]\u001b[A\n",
            "Adding data/iris_v1.csv to cache:   0% 0/1 [00:00<?, ?file/s{'info': ''}]\u001b[A\n",
            "                                                                         \u001b[A\n",
            "  0% 0/1 [00:00<?, ?files/s]\u001b[A\n",
            "  0% 0/1 [00:00<?, ?files/s{'info': ''}]\u001b[A\n",
            "Adding...: 100% 1/1 [00:00<00:00,  8.74file/s{'info': ''}]\n",
            "\u001b[0m[master 09d46a4] Add iris_v1\n",
            " 1 file changed, 5 insertions(+)\n",
            " create mode 100644 data/iris_v1.csv.dvc\n",
            "\u001b[?25l\u001b[32m⠋\u001b[0m Checking graph\n",
            "Adding...:   0% 0/1 [00:00<?, ?file/s{'info': ''}]\n",
            "!\u001b[A\n",
            "          |0.00 [00:00,     ?file/s]\u001b[A\n",
            "                                    \u001b[A\n",
            "!\u001b[A\n",
            "  0% |          |0/? [00:00<?,    ?files/s]\u001b[A\n",
            "                                           \u001b[A\n",
            "Adding data/iris_v2.csv to cache:   0% 0/1 [00:00<?, ?file/s]\u001b[A\n",
            "Adding data/iris_v2.csv to cache:   0% 0/1 [00:00<?, ?file/s{'info': ''}]\u001b[A\n",
            "                                                                         \u001b[A\n",
            "  0% 0/1 [00:00<?, ?files/s]\u001b[A\n",
            "  0% 0/1 [00:00<?, ?files/s{'info': ''}]\u001b[A\n",
            "Adding...: 100% 1/1 [00:00<00:00, 48.85file/s{'info': ''}]\n",
            "\u001b[0m[master f386d6b] Add iris_v2\n",
            " 1 file changed, 5 insertions(+)\n",
            " create mode 100644 data/iris_v2.csv.dvc\n",
            "\u001b[31mERROR\u001b[39m: argument command: invalid choice: 'run' (choose from 'add', 'artifacts', 'cache', 'check-ignore', 'checkout', 'commit', 'completion', 'config', 'daemon', 'dag', 'data', 'pull', 'push', 'fetch', 'status', 'dataset', 'ds', 'destroy', 'diff', 'du', 'experiments', 'exp', 'freeze', 'unfreeze', 'gc', 'get', 'get-url', 'git-hook', 'import', 'import-db', 'test-db', 'import-url', 'init', 'install', 'list', 'ls', 'list-url', 'ls-url', 'metrics', 'move', 'mv', 'params', 'plots', 'queue', 'remote', 'remove', 'rm', 'repro', 'root', 'stage', 'studio', 'unprotect', 'update', 'version', 'doctor')\n",
            "usage: dvc [-q | -v] [-h] [-V] [--cd <path>] [--wait-for-lock] command ...\n",
            "\n",
            "Data Version Control\n",
            "\n",
            "options:\n",
            "  -q, --quiet        Be quiet.\n",
            "  -v, --verbose      Be verbose.\n",
            "  -h, --help         Show this help message and exit.\n",
            "  -V, --version      Show program's version.\n",
            "  --cd <path>        Change to directory before executing.\n",
            "  --wait-for-lock    Wait for the lock if it is already held by another process, instead of failing immediately.\n",
            "\n",
            "Available Commands:\n",
            "  command            Use `dvc command --help` for command-specific help.\n",
            "    add              Track data files or directories with DVC.\n",
            "    artifacts        DVC model registry artifact commands.\n",
            "    cache            Manage cache settings.\n",
            "    check-ignore     Check whether files or directories are excluded due to `.dvcignore`.\n",
            "    checkout         Checkout data files from cache.\n",
            "    commit           Record changes to files or directories tracked by DVC by storing the current versions in the cache.\n",
            "    completion       Generate shell tab completion.\n",
            "    config           Get or set config options.\n",
            "    dag              Visualize DVC project DAG.\n",
            "    pull             Download tracked files or directories from remote storage.\n",
            "    push             Upload tracked files or directories to remote storage.\n",
            "    fetch            Download files or directories from remote storage to the cache.\n",
            "    status           Show changed stages, compare local cache and a remote storage.\n",
            "    destroy          Remove DVC files, local DVC config and data cache.\n",
            "    diff             Show added, modified, or deleted data between commits in the DVC repository, or between a commit and the workspace.\n",
            "    du               Show disk usage.\n",
            "    experiments (exp)\n",
            "                     Commands to run and compare experiments.\n",
            "    freeze           Freeze stages or .dvc files.\n",
            "    unfreeze         Unfreeze stages or .dvc files.\n",
            "    gc               Garbage collect unused objects from cache or remote storage.\n",
            "    get              Download file or directory tracked by DVC or by Git.\n",
            "    get-url          Download or copy files from URL.\n",
            "    import           Download file or directory tracked by DVC or by Git into the workspace, and track it.\n",
            "    import-db        Snapshot a table or a SQL query result to a CSV/JSON format\n",
            "    import-url       Download or copy file from URL and take it under DVC control.\n",
            "    init             Initialize DVC in the current directory.\n",
            "    install          Install DVC git hooks into the repository.\n",
            "    list (ls)        List repository contents, including files and directories tracked by DVC and by Git.\n",
            "    list-url (ls-url)\n",
            "                     List directory contents from URL.\n",
            "    metrics          Commands to display and compare metrics.\n",
            "    move (mv)        Rename or move a DVC controlled data file or a directory.\n",
            "    params           Commands to display params.\n",
            "    plots            Commands to visualize and compare plot data.\n",
            "    queue            Commands to manage experiments queue.\n",
            "    remote           Set up and manage data remotes.\n",
            "    remove (rm)      Remove stages from dvc.yaml and/or stop tracking files or directories.\n",
            "    repro            Reproduce complete or partial pipelines by executing their stages.\n",
            "    root             Return the relative path to the root of the DVC project.\n",
            "    stage            Commands to list and create stages.\n",
            "    studio           Commands to authenticate DVC with Iterative Studio\n",
            "    unprotect        Unprotect tracked files or directories (when hardlinks or symlinks have been enabled with `dvc config cache.type`).\n",
            "    update           Update data artifact imported (via dvc import or dvc import-url) from an external DVC repository or URL.\n",
            "    version (doctor)\n",
            "                     Display the DVC version and system/environment information.\n",
            "\u001b[0m"
          ]
        }
      ]
    },
    {
      "cell_type": "code",
      "source": [
        "!cd /content  # go to Colab root\n",
        "!find . -name \"dvc.yaml\""
      ],
      "metadata": {
        "colab": {
          "base_uri": "https://localhost:8080/"
        },
        "id": "mwSmm0eAYlXD",
        "outputId": "04ff289c-4ca6-4aac-e047-5bd2ff9d4687"
      },
      "execution_count": null,
      "outputs": [
        {
          "output_type": "stream",
          "name": "stdout",
          "text": [
            "./dvc.yaml\n"
          ]
        }
      ]
    },
    {
      "cell_type": "code",
      "source": [
        "!cd /content/ml-project   # change this path to match the search result\n",
        "!pwd\n",
        "!ls\n"
      ],
      "metadata": {
        "colab": {
          "base_uri": "https://localhost:8080/"
        },
        "id": "1mKV1WcFYsYy",
        "outputId": "385308dd-fbb1-4497-d914-fccee1575b00"
      },
      "execution_count": null,
      "outputs": [
        {
          "output_type": "stream",
          "name": "stdout",
          "text": [
            "/content/ml-project/ml-project/ml-project\n",
            "data  dvc.lock\tdvc.yaml  models  results  scripts\n"
          ]
        }
      ]
    },
    {
      "cell_type": "markdown",
      "metadata": {
        "id": "7109d0e3"
      },
      "source": [
        "## 8. Define DVC Pipeline Stages\n",
        "\n",
        "We will define the DVC pipeline in `dvc.yaml`. This includes stages for training models on both datasets and a stage for comparing the models."
      ]
    },
    {
      "cell_type": "code",
      "metadata": {
        "colab": {
          "base_uri": "https://localhost:8080/"
        },
        "id": "494e5ee2",
        "outputId": "18dcef29-6001-4a6e-90d0-154ab93dfef9"
      },
      "source": [
        "# Remove the existing dvc.yaml to start fresh with stage definitions\n",
        "!rm -f dvc.yaml\n",
        "\n",
        "# Define DVC stages for training\n",
        "!dvc stage add -n train_v1 \\\n",
        "  -d scripts/train.py -d data/iris_v1.csv \\\n",
        "  -o models/model_v1.pkl -o results/metrics_v1.txt \\\n",
        "  --run \\\n",
        "  python scripts/train.py data/iris_v1.csv models/model_v1.pkl results/metrics_v1.txt\n",
        "\n",
        "!dvc stage add -n train_v2 \\\n",
        "  -d scripts/train.py -d data/iris_v2.csv \\\n",
        "  -o models/model_v2.pkl -o results/metrics_v2.txt \\\n",
        "  --run \\\n",
        "  python scripts/train.py data/iris_v2.csv models/model_v2.pkl results/metrics_v2.txt\n",
        "\n",
        "# Define DVC stage for comparison\n",
        "!dvc stage add -n compare_models \\\n",
        "  -d scripts/compare_metrics.py \\\n",
        "  -d results/metrics_v1.txt -d results/metrics_v2.txt \\\n",
        "  -d models/model_v1.pkl -d models/model_v2.pkl \\\n",
        "  -o models/production_model.pkl \\\n",
        "  --run \\\n",
        "  python scripts/compare_metrics.py\n",
        "\n",
        "print(\"✅ Defined DVC stages in dvc.yaml\")"
      ],
      "execution_count": null,
      "outputs": [
        {
          "output_type": "stream",
          "name": "stdout",
          "text": [
            "\r!\r \r\r\u001b[31mERROR\u001b[39m: Path '/content/ml-project/ml-project/ml-project/models/model_v1.pkl' is ignored by\n",
            ".dvcignore:2:*.pkl\n",
            "\u001b[31mERROR\u001b[39m: Path '/content/ml-project/ml-project/ml-project/models/model_v2.pkl' is ignored by\n",
            ".dvcignore:2:*.pkl\n",
            "\u001b[31mERROR\u001b[39m: Path '/content/ml-project/ml-project/ml-project/models/production_model.pkl' is ignored by\n",
            ".dvcignore:2:*.pkl\n",
            "\u001b[0m✅ Defined DVC stages in dvc.yaml\n"
          ]
        }
      ]
    },
    {
      "cell_type": "markdown",
      "metadata": {
        "id": "c04c9294"
      },
      "source": [
        "## 9. Add Metrics to `dvc.yaml` for Tracking\n",
        "\n",
        "We will explicitly add the metrics files to the `metrics` section in `dvc.yaml` so DVC tracks them."
      ]
    },
    {
      "cell_type": "code",
      "metadata": {
        "colab": {
          "base_uri": "https://localhost:8080/"
        },
        "id": "ef2c0170",
        "outputId": "d5fe4d7d-ea76-4fa1-8d7e-15b76e086dcc"
      },
      "source": [
        "import yaml\n",
        "\n",
        "try:\n",
        "    with open(\"dvc.yaml\") as f:\n",
        "        dvc_config = yaml.safe_load(f)\n",
        "except FileNotFoundError:\n",
        "    dvc_config = {}\n",
        "except yaml.YAMLError as e:\n",
        "    print(f\"Error loading dvc.yaml: {e}\", file=sys.stderr)\n",
        "    dvc_config = {} # Start with an empty config if loading fails\n",
        "\n",
        "\n",
        "if \"metrics\" not in dvc_config or not isinstance(dvc_config[\"metrics\"], list):\n",
        "    dvc_config[\"metrics\"] = []\n",
        "\n",
        "# Add metrics if not already present\n",
        "if \"results/metrics_v1.txt\" not in dvc_config[\"metrics\"]:\n",
        "    dvc_config[\"metrics\"].append(\"results/metrics_v1.txt\")\n",
        "if \"results/metrics_v2.txt\" not in dvc_config[\"metrics\"]:\n",
        "    dvc_config[\"metrics\"].append(\"results/metrics_v2.txt\")\n",
        "\n",
        "\n",
        "with open(\"dvc.yaml\", \"w\") as f:\n",
        "    yaml.dump(dvc_config, f)\n",
        "\n",
        "print(\"✅ Added metrics section to dvc.yaml.\")"
      ],
      "execution_count": null,
      "outputs": [
        {
          "output_type": "stream",
          "name": "stdout",
          "text": [
            "✅ Added metrics section to dvc.yaml.\n"
          ]
        }
      ]
    },
    {
      "cell_type": "markdown",
      "metadata": {
        "id": "68c78904"
      },
      "source": [
        "## 10. Reproduce the Pipeline\n",
        "\n",
        "Now we can reproduce the entire pipeline using `dvc repro`. This will execute the stages in the correct order based on their dependencies."
      ]
    },
    {
      "cell_type": "code",
      "metadata": {
        "colab": {
          "base_uri": "https://localhost:8080/"
        },
        "id": "009e2b63",
        "outputId": "898f359f-89f5-4458-a050-c605856252c6"
      },
      "source": [
        "# Reproduce the pipeline\n",
        "!dvc repro"
      ],
      "execution_count": null,
      "outputs": [
        {
          "output_type": "stream",
          "name": "stdout",
          "text": [
            "Verifying data sources in stage: 'data/iris_v1.csv.dvc'\n",
            "Use `dvc push` to send your updates to remote storage.\n",
            "\u001b[0m"
          ]
        }
      ]
    },
    {
      "cell_type": "markdown",
      "metadata": {
        "id": "7849f1b0"
      },
      "source": [
        "## 11. Show Metrics\n",
        "\n",
        "We can use `dvc metrics show` to view the tracked metrics."
      ]
    },
    {
      "cell_type": "code",
      "metadata": {
        "colab": {
          "base_uri": "https://localhost:8080/"
        },
        "id": "ce99ea59",
        "outputId": "656c207c-435b-4b2d-c4bc-f71b241d1a7c"
      },
      "source": [
        "# Show metrics\n",
        "!dvc metrics show"
      ],
      "execution_count": null,
      "outputs": [
        {
          "output_type": "stream",
          "name": "stdout",
          "text": [
            "DVC failed to load some metrics for following revisions: ''.\n",
            "Path\n",
            "results/metrics_v1.txt\n",
            "results/metrics_v2.txt\n",
            "\u001b[0m"
          ]
        }
      ]
    },
    {
      "cell_type": "markdown",
      "metadata": {
        "id": "84c521ad"
      },
      "source": [
        "## 12. Add and Commit Changes to Git\n",
        "\n",
        "We will add all the DVC-related files (`.dvc` files, `dvc.yaml`, `.gitignore`, `.dvcignore`) and our scripts to Git and commit them. The actual data and model files are ignored by Git but tracked by DVC."
      ]
    },
    {
      "cell_type": "code",
      "metadata": {
        "colab": {
          "base_uri": "https://localhost:8080/"
        },
        "id": "8c816bfe",
        "outputId": "1ba097b3-1304-4ab6-da14-5daff9415ed5"
      },
      "source": [
        "# Add and commit changes to Git\n",
        "!git add .\n",
        "!git commit -m \"Initial DVC pipeline setup with data, scripts, and stages\""
      ],
      "execution_count": null,
      "outputs": [
        {
          "output_type": "stream",
          "name": "stdout",
          "text": [
            "[master b985720] Initial DVC pipeline setup with data, scripts, and stages\n",
            " 9 files changed, 14 insertions(+), 39 deletions(-)\n",
            " create mode 100644 .dvc/config\n",
            " create mode 100644 .dvc/tmp/btime\n",
            " create mode 100644 .dvc/tmp/lock\n",
            " create mode 100644 .dvc/tmp/rwlock\n",
            " create mode 100644 .dvc/tmp/rwlock.lock\n",
            " rewrite dvc.yaml (98%)\n"
          ]
        }
      ]
    },
    {
      "cell_type": "code",
      "source": [
        "ls /content/ml-project\n"
      ],
      "metadata": {
        "colab": {
          "base_uri": "https://localhost:8080/"
        },
        "id": "gDW4abt4W05X",
        "outputId": "38c27919-0216-4e1a-fd31-ca9b262ebce3"
      },
      "execution_count": null,
      "outputs": [
        {
          "output_type": "stream",
          "name": "stdout",
          "text": [
            "\u001b[0m\u001b[01;34mdata\u001b[0m/  \u001b[01;34mml-project\u001b[0m/  \u001b[01;34mmodels\u001b[0m/  \u001b[01;34mresults\u001b[0m/  \u001b[01;34mscripts\u001b[0m/\n"
          ]
        }
      ]
    },
    {
      "cell_type": "code",
      "source": [
        "cd /content/ml-project/ml-project\n"
      ],
      "metadata": {
        "colab": {
          "base_uri": "https://localhost:8080/"
        },
        "id": "J9C5vkeXW53q",
        "outputId": "b4b9ec5a-17f7-49b9-e0f1-ce4b45206dd1"
      },
      "execution_count": null,
      "outputs": [
        {
          "output_type": "stream",
          "name": "stdout",
          "text": [
            "/content/ml-project/ml-project\n"
          ]
        }
      ]
    },
    {
      "cell_type": "code",
      "source": [
        "!ls -l dvc.yaml\n",
        "!ls -l scripts/train.py\n",
        "!ls -l scripts/compare_metrics.py\n",
        "!ls -l data/iris_v1.csv\n"
      ],
      "metadata": {
        "colab": {
          "base_uri": "https://localhost:8080/"
        },
        "id": "cstE75ocW82B",
        "outputId": "f5a241dd-5f51-4da0-e47e-c16cce26b33d"
      },
      "execution_count": null,
      "outputs": [
        {
          "output_type": "stream",
          "name": "stdout",
          "text": [
            "-rw-r--r-- 1 root root 796 Aug 12 12:38 dvc.yaml\n",
            "-rw-r--r-- 1 root root 1368 Aug 12 12:38 scripts/train.py\n",
            "-rw-r--r-- 1 root root 477 Aug 12 12:08 scripts/compare_metrics.py\n",
            "-rw-r--r-- 1 root root 2778 Aug 12 13:24 data/iris_v1.csv\n"
          ]
        }
      ]
    },
    {
      "cell_type": "code",
      "metadata": {
        "colab": {
          "base_uri": "https://localhost:8080/"
        },
        "id": "6527f08b",
        "outputId": "ca1d3dda-fc89-4e13-efdc-6b6069dc5319"
      },
      "source": [
        "import pandas as pd\n",
        "\n",
        "# Step 0: Remove CSV ignore rule from .dvcignore\n",
        "!sed -i '/\\.csv/d' .dvcignore\n",
        "print(\"✅ Removed '*.csv' rule from .dvcignore (so DVC will track CSV changes)\")\n",
        "\n",
        "# Step 1: Show metrics before change\n",
        "print(\"\\n📊 Metrics BEFORE change:\")\n",
        "!dvc metrics show\n",
        "\n",
        "# Step 2: Modify first 3 rows in iris_v1.csv\n",
        "df = pd.read_csv(\"data/iris_v1.csv\")\n",
        "df.iloc[0:3, 0] = df.iloc[0:3, 0] + 1.0\n",
        "df.to_csv(\"data/iris_v1.csv\", index=False)\n",
        "print(\"✅ Modified data/iris_v1.csv\")\n",
        "\n",
        "# Step 3: Track change with DVC and commit to Git\n",
        "!dvc add data/iris_v1.csv\n",
        "!git add data/iris_v1.csv.dvc\n",
        "!git commit -m \"Updated iris_v1 dataset\"\n",
        "\n",
        "# Step 4: Force re-run only train_v1 stage\n",
        "!dvc repro --force train_v1\n",
        "\n",
        "# Step 5: Show metrics after change\n",
        "print(\"\\n📊 Metrics AFTER change:\")\n",
        "!dvc metrics show\n",
        "\n",
        "# Step 6: Compare models\n",
        "!python scripts/compare_metrics.py\n"
      ],
      "execution_count": null,
      "outputs": [
        {
          "output_type": "stream",
          "name": "stdout",
          "text": [
            "✅ Removed '*.csv' rule from .dvcignore (so DVC will track CSV changes)\n",
            "\n",
            "📊 Metrics BEFORE change:\n",
            "Path                    accuracy\n",
            "results/metrics_v1.txt  0.9733\n",
            "results/metrics_v2.txt  0.98\n",
            "\u001b[0m✅ Modified data/iris_v1.csv\n",
            "\u001b[?25l\u001b[32m⠋\u001b[0m Checking graph\n",
            "Adding...:   0% 0/1 [00:00<?, ?file/s{'info': ''}]\n",
            "!\u001b[A\n",
            "          |0.00 [00:00,     ?file/s]\u001b[A\n",
            "                                    \u001b[A\n",
            "!\u001b[A\n",
            "  0% |          |0/? [00:00<?,    ?files/s]\u001b[A\n",
            "                                           \u001b[A\n",
            "Adding data/iris_v1.csv to cache:   0% 0/1 [00:00<?, ?file/s]\u001b[A\n",
            "Adding data/iris_v1.csv to cache:   0% 0/1 [00:00<?, ?file/s{'info': ''}]\u001b[A\n",
            "                                                                         \u001b[A\n",
            "  0% 0/1 [00:00<?, ?files/s]\u001b[A\n",
            "  0% 0/1 [00:00<?, ?files/s{'info': ''}]\u001b[A\n",
            "Adding...: 100% 1/1 [00:00<00:00, 48.30file/s{'info': ''}]\n",
            "\u001b[0m[master df54ad8] Updated iris_v1 dataset\n",
            " 1 file changed, 2 insertions(+), 2 deletions(-)\n",
            "Verifying data sources in stage: 'data/iris_v1.csv.dvc'\n",
            "                                                                       \n",
            "Running stage 'train_v1':\n",
            "> python scripts/train.py data/iris_v1.csv models/model_v1.pkl results/metrics_v1.txt\n",
            "Loading data from: data/iris_v1.csv\n",
            "Data loaded successfully.\n",
            "Training Logistic Regression model...\n",
            "Model trained successfully.\n",
            "Calculated accuracy: 0.9733\n",
            "Saving model to: models/model_v1.pkl\n",
            "Model saved successfully.\n",
            "Saving metrics to: results/metrics_v1.txt\n",
            "Metrics saved successfully.\n",
            "Updating lock file 'dvc.lock'\n",
            "Use `dvc push` to send your updates to remote storage.\n",
            "\u001b[0m\n",
            "📊 Metrics AFTER change:\n",
            "Path                    accuracy\n",
            "results/metrics_v1.txt  0.9733\n",
            "results/metrics_v2.txt  0.98\n",
            "\u001b[0mBest dataset: iris_v2, Accuracy: 0.98\n",
            "Saved best model as models/production_model.pkl\n"
          ]
        }
      ]
    }
  ]
}